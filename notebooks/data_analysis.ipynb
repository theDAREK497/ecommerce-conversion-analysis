import pandas as pd
from src.data_processing import load_data, clean_data, calculate_metrics
from src.visualization import plot_conversion_by_device, plot_page_load_vs_bounce

# Загрузка и очистка данных
df = load_data('data/sample_data.csv')
df = clean_data(df)

# Расчёт метрик
metrics = calculate_metrics(df)
print("Среднее время загрузки страницы:", metrics['avg_page_load'])
print("Конверсия:", metrics['conversion_rate'], "%")

# Визуализация
plot_conversion_by_device(df)
plot_page_load_vs_bounce(df)